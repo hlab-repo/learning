{
  "nbformat": 4,
  "nbformat_minor": 0,
  "metadata": {
    "colab": {
      "name": "Stanza Intro.ipynb",
      "provenance": [],
      "collapsed_sections": []
    },
    "kernelspec": {
      "name": "python3",
      "display_name": "Python 3"
    }
  },
  "cells": [
    {
      "cell_type": "code",
      "metadata": {
        "id": "rK8ZJtWQOn4h"
      },
      "source": [
        "%%capture\n",
        "!pip install stanza"
      ],
      "execution_count": null,
      "outputs": []
    },
    {
      "cell_type": "code",
      "metadata": {
        "id": "Js5OdwpzP6ar"
      },
      "source": [
        "import stanza"
      ],
      "execution_count": null,
      "outputs": []
    },
    {
      "cell_type": "markdown",
      "metadata": {
        "id": "1YVsgrdJXEj-"
      },
      "source": [
        "### Ancient Greek"
      ]
    },
    {
      "cell_type": "code",
      "metadata": {
        "id": "ApXreO9sQKDF"
      },
      "source": [
        "%%capture\n",
        "stanza.download('grc')"
      ],
      "execution_count": null,
      "outputs": []
    },
    {
      "cell_type": "code",
      "metadata": {
        "id": "RDAxfBixOrTP"
      },
      "source": [
        "nlp = stanza.Pipeline(lang='grc', processors='tokenize,pos,lemma,depparse')\n",
        "doc = nlp('περὶ ποιητικῆς αὐτῆς τε καὶ τῶν εἰδῶν αὐτῆς, λέγωμεν ἀρξάμενοι κατὰ φύσιν πρῶτον ἀπὸ τῶν πρώτων.')\n",
        "for sent in doc.sentences:\n",
        "    for word in sent.words:\n",
        "        print(f'Word: {word.text}; Lemma: {word.lemma}; Dependency: {sent.words[word.head - 1].text}; '\n",
        "              f'Dependency Relation: {word.deprel}; Universal POS: {word.upos}; Treebank Specific POS: {word.xpos}; Position: {word.misc}')"
      ],
      "execution_count": null,
      "outputs": []
    },
    {
      "cell_type": "markdown",
      "metadata": {
        "id": "dOGTGn44XHnm"
      },
      "source": [
        "### Hebrew"
      ]
    },
    {
      "cell_type": "code",
      "metadata": {
        "id": "bbAiUbEuTy2I"
      },
      "source": [
        "%%capture\n",
        "stanza.download('he')"
      ],
      "execution_count": null,
      "outputs": []
    },
    {
      "cell_type": "code",
      "metadata": {
        "id": "-rTXRCUUO_ya"
      },
      "source": [
        "nlp = stanza.Pipeline(lang='he', processors='tokenize,pos,lemma,depparse')\n",
        "doc = nlp('והארץ היתה תהו ובהו וחשך על־פני תהום ורוח אלהים מרחפת על־פני המים׃')\n",
        "for sent in doc.sentences:\n",
        "    for word in sent.words:\n",
        "        print(f'Word: {word.text}; Lemma: {word.lemma}; Dependency: {sent.words[word.head - 1].text}; '\n",
        "              f'Dependency Relation: {word.deprel}; Universal POS: {word.upos}; Treebank Specific POS: {word.xpos}; Position: {word.misc}')"
      ],
      "execution_count": null,
      "outputs": []
    },
    {
      "cell_type": "markdown",
      "metadata": {
        "id": "UIcb4e0MXdrH"
      },
      "source": [
        "### Latin"
      ]
    },
    {
      "cell_type": "code",
      "metadata": {
        "id": "BaOafjA7UESQ"
      },
      "source": [
        "%%capture\n",
        "stanza.download('la')"
      ],
      "execution_count": null,
      "outputs": []
    },
    {
      "cell_type": "code",
      "metadata": {
        "id": "-G8iMD0qXhCH"
      },
      "source": [
        "nlp = stanza.Pipeline(lang='la', processors='tokenize,pos,lemma,depparse')\n",
        "doc = nlp('Erant in quadam civitate rex et regina.')\n",
        "for sent in doc.sentences:\n",
        "    for word in sent.words:\n",
        "        print(f'Word: {word.text}; Lemma: {word.lemma}; Dependency: {sent.words[word.head - 1].text}; '\n",
        "              f'Dependency Relation: {word.deprel}; Universal POS: {word.upos}; Treebank Specific POS: {word.xpos}; Position: {word.misc}')"
      ],
      "execution_count": null,
      "outputs": []
    },
    {
      "cell_type": "code",
      "metadata": {
        "id": "7EfP1M9XXuoz"
      },
      "source": [
        ""
      ],
      "execution_count": null,
      "outputs": []
    }
  ]
}