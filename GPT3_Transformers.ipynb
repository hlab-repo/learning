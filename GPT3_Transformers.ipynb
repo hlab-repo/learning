{
  "nbformat": 4,
  "nbformat_minor": 0,
  "metadata": {
    "colab": {
      "name": "GPT3 Transformers.ipynb",
      "provenance": [],
      "collapsed_sections": [],
      "machine_shape": "hm"
    },
    "kernelspec": {
      "name": "python3",
      "display_name": "Python 3"
    },
    "language_info": {
      "name": "python"
    },
    "accelerator": "GPU"
  },
  "cells": [
    {
      "cell_type": "markdown",
      "metadata": {
        "id": "9gI6G8b7Ra2Q"
      },
      "source": [
        "# A quick example of using GPT3 with HuggingFace as created by EleutherAI"
      ]
    },
    {
      "cell_type": "code",
      "metadata": {
        "id": "kKgdrQ_UP01l"
      },
      "source": [
        "%%capture\n",
        "!pip install git+git://github.com/huggingface/transformers.git"
      ],
      "execution_count": null,
      "outputs": []
    },
    {
      "cell_type": "code",
      "metadata": {
        "id": "cNDIuGc_P_Va"
      },
      "source": [
        "import torch\n",
        "from transformers import pipeline"
      ],
      "execution_count": null,
      "outputs": []
    },
    {
      "cell_type": "markdown",
      "metadata": {
        "id": "BSQh9-IVRnoH"
      },
      "source": [
        "## Create the generator pipeline"
      ]
    },
    {
      "cell_type": "code",
      "metadata": {
        "id": "OY-dpN-TQIXJ"
      },
      "source": [
        "%%capture\n",
        "generator = pipeline('text-generation', model='EleutherAI/gpt-neo-1.3B', device=0)"
      ],
      "execution_count": null,
      "outputs": []
    },
    {
      "cell_type": "markdown",
      "metadata": {
        "id": "cIEzr26HRsXL"
      },
      "source": [
        "## Now generate samples"
      ]
    },
    {
      "cell_type": "code",
      "metadata": {
        "colab": {
          "base_uri": "https://localhost:8080/"
        },
        "id": "Z3V-xYl5QMEL",
        "outputId": "9c9b135b-14b0-48a0-cd67-0dfd37eff4e2"
      },
      "source": [
        "with torch.no_grad():\n",
        "    output = generator('What do artificial intelligence and human beings have in common?',\n",
        "                       do_sample=True,\n",
        "                       max_length=100,\n",
        "                       pad_token_id=50256)\n",
        "    print(output)"
      ],
      "execution_count": null,
      "outputs": [
        {
          "output_type": "stream",
          "text": [
            "[{'generated_text': 'What do artificial intelligence and human beings have in common? In the 21st century, artificial intelligence research aims to develop intelligent software that is not human, but that mimics the way that computer programs work (called “artificial neural networks” or “deep learning”), allowing computers to learn, adapt, and improve.\\n\\nWe may have seen the future of artificial intelligence and deep learning research in the past, but those futures are coming to pass. I had the opportunity to'}]\n"
          ],
          "name": "stdout"
        }
      ]
    },
    {
      "cell_type": "code",
      "metadata": {
        "id": "U1_Z7vaZTONz"
      },
      "source": [
        ""
      ],
      "execution_count": null,
      "outputs": []
    }
  ]
}